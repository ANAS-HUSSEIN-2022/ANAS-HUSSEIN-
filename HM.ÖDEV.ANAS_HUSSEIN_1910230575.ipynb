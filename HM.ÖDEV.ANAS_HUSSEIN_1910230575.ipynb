{
 "cells": [
  {
   "cell_type": "code",
   "execution_count": null,
   "id": "594d3a12",
   "metadata": {},
   "outputs": [],
   "source": []
  },
  {
   "cell_type": "markdown",
   "id": "4a47b4ce",
   "metadata": {},
   "source": []
  },
  {
   "cell_type": "markdown",
   "id": "5cee3680",
   "metadata": {},
   "source": [
    "# BMR and BMI\n",
    "* Bazal metabolizma hızı (BMR), sindirim sistemi aktif olmadığında ılıman bir ortamda dinlenirken ihtiyaç duyulan enerji miktarıdır.\n",
    "- The basal metabolic rate (BMR) is the amount of energy needed while resting in a temperate environment when the digestive system is inactive\n",
    "\n",
    "\n",
    "* Vücut kitle indeksi (BMI), yetişkin erkekler ve kadınlar için geçerli olan boy ve kiloya dayalı vücut yağının bir ölçüsüdür.\n",
    "- Body mass index (BMI) is a measure of body fat based on height and weight that applies to adult men and women\n",
    "\n",
    "\n",
    "\n",
    "* code explanation:\n",
    "first of all You will choose the operation you want to do\n",
    "Calulate BMI or BMR :   bmr\n",
    "Are you male (M) or female (F) m\n",
    "Please enter your height in cm169\n",
    "Please enter your weight in Kg60\n",
    "Please enter your age in years23\n",
    "Your BMI is: 1572.6420000000003"
   ]
  },
  {
   "cell_type": "code",
   "execution_count": 67,
   "id": "e9f46f9a",
   "metadata": {},
   "outputs": [
    {
     "name": "stdout",
     "output_type": "stream",
     "text": [
      "Calulate BMI or BMR :   bmr\n",
      "Are you male (M) or female (F) m\n",
      "Please enter your height in cm169\n",
      "Please enter your weight in Kg60\n",
      "Please enter your age in years23\n",
      "Your BMI is: 1572.6420000000003\n"
     ]
    }
   ],
   "source": [
    "#ask weather to print BMI or BMR\n",
    "output = str(input('Calulate BMI or BMR :   '))\n",
    "#a=int(input(\"Yukaridan bir numarayi seciniz: \"))\n",
    "\n",
    "if output.upper()!='BMI' and output.upper()!='BMR':\n",
    "    print(\"ERROR\\nPlease try again\")\n",
    "else:\n",
    "    if output.upper()=='BMI':     #BMI\n",
    "    # the formula for BMI is weight in kilograms divided by height in meters squared.\n",
    "        height = int(input('Please enter your height in cm: '))#Get height and weight values\n",
    "        weight = int(input('Please enter your weight in Kg: '))\n",
    "        #Do the first steps of the formula\n",
    "        heightSquared = (height **2)\n",
    "        finalWeight = (weight)\n",
    "        bmi = (finalWeight / heightSquared)*10000 #Fiqure out and print the BMI\n",
    "        if bmi<18:\n",
    "            text = 'Underweight'\n",
    "        elif bmi >=18 and bmi<= 24: \n",
    "            text = 'Ideal'\n",
    "\n",
    "        elif bmi>24 and bmi <= 29:\n",
    "            text = 'Overweight'\n",
    "\n",
    "        elif bmi >29 and bmi<= 39:\n",
    "            text = 'Obese'\n",
    "        else:\n",
    "            text='extremely obese'\n",
    "\n",
    "   \n",
    "        print ('Your BMI is: ' + str(bmi))\n",
    "        print ('This is: ' + text)\n",
    "    elif output.upper()==\"BMR\":    #bmr\n",
    "#Calculate Basal Metabolic Rate\n",
    "#Men: BMR = 88.362 + (13.397 x weight in kg) + (4.799 x height in cm) – (5.677 x age in years) \n",
    "#Women: BMR = 447.593 + (9.247 x weight in kg) + (3.098 x height in cm) – (4.330 x age in years\n",
    "        gender =  str(input('Are you male (M) or female (F): '))\n",
    "        if gender.upper() != \"M\" and  gender.upper() != \"F\" and  gender.upper() !=\"MALE\" and  gender.upper() !=\"FEMALE\":\n",
    "            print(\"ERROR\\nPlease try again\")\n",
    "        else:\n",
    "            if gender.upper()== 'M' or 'MALE':     \n",
    "                 #Get user's height, weight and age values.\n",
    "                height = int(input('Please enter your height in cm :'))\n",
    "                weight = int(input('Please enter your weight in Kg :'))\n",
    "                age = int(input('Please enter your age in years: '))\n",
    "                bmr =  88.362+ (13.397* weight) + (4.799  * height) - (5.677 * age)\n",
    "                print ('Your BMI is: ' + str(bmr))\n",
    "            elif gender == 'F' or 'FEMALE':\n",
    "                \n",
    "                height = int(input('Please enter your height in cm: '))\n",
    "                weight = int(input('Please enter your weight in Kg: '))\n",
    "                age = int(input('Please enter your age in years: '))\n",
    "                bmr = 447.593  + (9.247 * weight) + (3.098 * height) - (4.330 * age)\n",
    "                print ('Your BMI is: ' + str(bmr))\n",
    "                "
   ]
  },
  {
   "cell_type": "markdown",
   "id": "3d12fa4c",
   "metadata": {},
   "source": [
    "# Std Dev\n",
    "* Standart sapma, bir veri kümesindeki değerlerin yayılmasını ölçmek için kullanılır. Bireyler ve şirketler, veri kümelerini daha iyi anlamak için her zaman farklı alanlarda standart sapma kullanır.\n",
    "\n",
    "- The standard deviation is used to measure the spread of values in a dataset. Individuals and companies use standard deviation all the time in different fields to gain a better understanding of datasets\n",
    "\n",
    "\n",
    "\n",
    "Enter the first  number:1\n",
    "Enter the second number:3\n",
    "Enter the third number:14\n",
    "The Standard Deviation is:  7.0"
   ]
  },
  {
   "cell_type": "code",
   "execution_count": 72,
   "id": "0126079d",
   "metadata": {},
   "outputs": [
    {
     "name": "stdout",
     "output_type": "stream",
     "text": [
      "Enter the first  number:1\n",
      "Enter the second number:3\n",
      "Enter the third number:14\n",
      "The Standard Deviation is:  7.0\n"
     ]
    }
   ],
   "source": [
    "data_1=int(input(\"Enter the first  number:\"))\n",
    "data_2=int(input(\"Enter the second number:\"))\n",
    "data_3=int(input(\"Enter the third number:\"))\n",
    "p=data_1+data_2+data_3\n",
    "n=3 # number of the inputs\n",
    "av=(p/n)\n",
    "k=((data_1-av)**2+(data_2-av)**2+(data_3-av)**2)\n",
    "s=((k)/(n-1))**0.5\n",
    "print(\"The Standard Deviation is: \",s)"
   ]
  },
  {
   "cell_type": "markdown",
   "id": "17965e1f",
   "metadata": {},
   "source": [
    "# Calculate Resistance \n",
    "Calculate Resistance\n",
    "Seri veya paralel bağlı iki direnç arasındaki eşdeğer direnci hesaplayın.\n",
    "Calculate the equivalent resistance between two resistors connected in series or parallel.\n",
    "\n",
    "\n",
    "\n",
    "Hi\n",
    "We are here to help you do a resistance conculation with a limited number of resistance which only 2 so;\n",
    "Please choose the type of calculation you wanna do\n",
    "Then Enter the values \n",
    "Enter series or parallel:parallel\n",
    "Enter the value of the first resistor in ohms: :3\n",
    "Enter the value of the second resistor in ohms: :3\n",
    "Result =  1.5"
   ]
  },
  {
   "cell_type": "code",
   "execution_count": 68,
   "id": "2c3905ec",
   "metadata": {},
   "outputs": [
    {
     "name": "stdout",
     "output_type": "stream",
     "text": [
      "Hi\n",
      "We are here to help you do a resistance conculation with a limited number of resistance which only 2 so;\n",
      "Please choose the type of calculation you wanna do\n",
      "Then Enter the values \n",
      "Enter series or parallel:parallel\n",
      "Enter the value of the first resistor in ohms: :3\n",
      "Enter the value of the second resistor in ohms: :3\n",
      "Result =  1.5\n"
     ]
    }
   ],
   "source": [
    "print('''Hi\n",
    "We are here to help you do a resistance conculation with a limited number of resistance which only 2 so;\\nPlease choose the type of calculation you wanna do\n",
    "Then Enter the values ''')\n",
    "Rtupe=str(input(\"Enter series or parallel:\"))\n",
    "if Rtupe.upper()==\"SERIES\":\n",
    "    Rvalue_1=int(input(\"Enter the value of the first resistor in ohms: :\"))\n",
    "    Rvalue_2=int(input(\"Enter the value of the second resistor in ohms: :\"))\n",
    "    calc=(Rvalue_1+Rvalue_2)\n",
    "    print(\"Result = \",calc)\n",
    "\n",
    "elif Rtupe.upper()==\"PARALLEL\":\n",
    "    Rvalue_1=int(input(\"Enter the value of the first resistor in ohms: :\"))\n",
    "    Rvalue_2=int(input(\"Enter the value of the second resistor in ohms: :\"))\n",
    "    calc=(Rvalue_1*Rvalue_2)/(Rvalue_1+Rvalue_2)\n",
    "    print(\"Result = \",calc)\n",
    "else:\n",
    "    print(\"ERROR\\nPlease try again\")"
   ]
  }
 ],
 "metadata": {
  "kernelspec": {
   "display_name": "Python 3 (ipykernel)",
   "language": "python",
   "name": "python3"
  },
  "language_info": {
   "codemirror_mode": {
    "name": "ipython",
    "version": 3
   },
   "file_extension": ".py",
   "mimetype": "text/x-python",
   "name": "python",
   "nbconvert_exporter": "python",
   "pygments_lexer": "ipython3",
   "version": "3.9.12"
  }
 },
 "nbformat": 4,
 "nbformat_minor": 5
}
